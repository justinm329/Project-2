{
 "cells": [
  {
   "cell_type": "code",
   "execution_count": 1,
   "id": "4e66f0cb-c0e4-46d6-ae7d-713c65326326",
   "metadata": {},
   "outputs": [],
   "source": [
    "#This model incorporates the training application & credit card balances.\n",
    "#test"
   ]
  },
  {
   "cell_type": "code",
   "execution_count": 3,
   "id": "5e8722b0-94a1-4dc5-8cc7-9d13169a35f7",
   "metadata": {},
   "outputs": [],
   "source": [
    "#Import Libraries\n",
    "\n",
    "import pandas as pd\n",
    "import numpy as np\n",
    "import tensorflow as tf\n",
    "import eli5\n",
    "\n",
    "from sklearn.model_selection import train_test_split\n",
    "from sklearn.preprocessing import StandardScaler\n",
    "from tensorflow.keras.models import Sequential\n",
    "from keras.layers import Dense, Flatten, Activation, Dropout, GaussianNoise\n",
    "from sklearn.preprocessing import MinMaxScaler\n",
    "from tensorflow import keras\n",
    "from tensorflow.keras import layers\n",
    "from pathlib import Path\n",
    "from eli5.sklearn import PermutationImportance\n"
   ]
  },
  {
   "cell_type": "code",
   "execution_count": 4,
   "id": "ee018191-eb7e-455c-9f04-aff4edd3e49d",
   "metadata": {},
   "outputs": [
    {
     "data": {
      "text/html": [
       "<div>\n",
       "<style scoped>\n",
       "    .dataframe tbody tr th:only-of-type {\n",
       "        vertical-align: middle;\n",
       "    }\n",
       "\n",
       "    .dataframe tbody tr th {\n",
       "        vertical-align: top;\n",
       "    }\n",
       "\n",
       "    .dataframe thead th {\n",
       "        text-align: right;\n",
       "    }\n",
       "</style>\n",
       "<table border=\"1\" class=\"dataframe\">\n",
       "  <thead>\n",
       "    <tr style=\"text-align: right;\">\n",
       "      <th></th>\n",
       "      <th>SK_ID_CURR</th>\n",
       "      <th>TARGET</th>\n",
       "      <th>NAME_CONTRACT_TYPE</th>\n",
       "      <th>CODE_GENDER</th>\n",
       "      <th>FLAG_OWN_CAR</th>\n",
       "      <th>FLAG_OWN_REALTY</th>\n",
       "      <th>CNT_CHILDREN</th>\n",
       "      <th>AMT_INCOME_TOTAL</th>\n",
       "      <th>AMT_CREDIT</th>\n",
       "      <th>AMT_ANNUITY</th>\n",
       "      <th>...</th>\n",
       "      <th>FLAG_DOCUMENT_18</th>\n",
       "      <th>FLAG_DOCUMENT_19</th>\n",
       "      <th>FLAG_DOCUMENT_20</th>\n",
       "      <th>FLAG_DOCUMENT_21</th>\n",
       "      <th>AMT_REQ_CREDIT_BUREAU_HOUR</th>\n",
       "      <th>AMT_REQ_CREDIT_BUREAU_DAY</th>\n",
       "      <th>AMT_REQ_CREDIT_BUREAU_WEEK</th>\n",
       "      <th>AMT_REQ_CREDIT_BUREAU_MON</th>\n",
       "      <th>AMT_REQ_CREDIT_BUREAU_QRT</th>\n",
       "      <th>AMT_REQ_CREDIT_BUREAU_YEAR</th>\n",
       "    </tr>\n",
       "  </thead>\n",
       "  <tbody>\n",
       "    <tr>\n",
       "      <th>0</th>\n",
       "      <td>100002</td>\n",
       "      <td>1</td>\n",
       "      <td>Cash loans</td>\n",
       "      <td>M</td>\n",
       "      <td>N</td>\n",
       "      <td>Y</td>\n",
       "      <td>0</td>\n",
       "      <td>202500.0</td>\n",
       "      <td>406597.5</td>\n",
       "      <td>24700.5</td>\n",
       "      <td>...</td>\n",
       "      <td>0</td>\n",
       "      <td>0</td>\n",
       "      <td>0</td>\n",
       "      <td>0</td>\n",
       "      <td>0.0</td>\n",
       "      <td>0.0</td>\n",
       "      <td>0.0</td>\n",
       "      <td>0.0</td>\n",
       "      <td>0.0</td>\n",
       "      <td>1.0</td>\n",
       "    </tr>\n",
       "    <tr>\n",
       "      <th>1</th>\n",
       "      <td>100003</td>\n",
       "      <td>0</td>\n",
       "      <td>Cash loans</td>\n",
       "      <td>F</td>\n",
       "      <td>N</td>\n",
       "      <td>N</td>\n",
       "      <td>0</td>\n",
       "      <td>270000.0</td>\n",
       "      <td>1293502.5</td>\n",
       "      <td>35698.5</td>\n",
       "      <td>...</td>\n",
       "      <td>0</td>\n",
       "      <td>0</td>\n",
       "      <td>0</td>\n",
       "      <td>0</td>\n",
       "      <td>0.0</td>\n",
       "      <td>0.0</td>\n",
       "      <td>0.0</td>\n",
       "      <td>0.0</td>\n",
       "      <td>0.0</td>\n",
       "      <td>0.0</td>\n",
       "    </tr>\n",
       "    <tr>\n",
       "      <th>2</th>\n",
       "      <td>100004</td>\n",
       "      <td>0</td>\n",
       "      <td>Revolving loans</td>\n",
       "      <td>M</td>\n",
       "      <td>Y</td>\n",
       "      <td>Y</td>\n",
       "      <td>0</td>\n",
       "      <td>67500.0</td>\n",
       "      <td>135000.0</td>\n",
       "      <td>6750.0</td>\n",
       "      <td>...</td>\n",
       "      <td>0</td>\n",
       "      <td>0</td>\n",
       "      <td>0</td>\n",
       "      <td>0</td>\n",
       "      <td>0.0</td>\n",
       "      <td>0.0</td>\n",
       "      <td>0.0</td>\n",
       "      <td>0.0</td>\n",
       "      <td>0.0</td>\n",
       "      <td>0.0</td>\n",
       "    </tr>\n",
       "    <tr>\n",
       "      <th>3</th>\n",
       "      <td>100006</td>\n",
       "      <td>0</td>\n",
       "      <td>Cash loans</td>\n",
       "      <td>F</td>\n",
       "      <td>N</td>\n",
       "      <td>Y</td>\n",
       "      <td>0</td>\n",
       "      <td>135000.0</td>\n",
       "      <td>312682.5</td>\n",
       "      <td>29686.5</td>\n",
       "      <td>...</td>\n",
       "      <td>0</td>\n",
       "      <td>0</td>\n",
       "      <td>0</td>\n",
       "      <td>0</td>\n",
       "      <td>NaN</td>\n",
       "      <td>NaN</td>\n",
       "      <td>NaN</td>\n",
       "      <td>NaN</td>\n",
       "      <td>NaN</td>\n",
       "      <td>NaN</td>\n",
       "    </tr>\n",
       "    <tr>\n",
       "      <th>4</th>\n",
       "      <td>100007</td>\n",
       "      <td>0</td>\n",
       "      <td>Cash loans</td>\n",
       "      <td>M</td>\n",
       "      <td>N</td>\n",
       "      <td>Y</td>\n",
       "      <td>0</td>\n",
       "      <td>121500.0</td>\n",
       "      <td>513000.0</td>\n",
       "      <td>21865.5</td>\n",
       "      <td>...</td>\n",
       "      <td>0</td>\n",
       "      <td>0</td>\n",
       "      <td>0</td>\n",
       "      <td>0</td>\n",
       "      <td>0.0</td>\n",
       "      <td>0.0</td>\n",
       "      <td>0.0</td>\n",
       "      <td>0.0</td>\n",
       "      <td>0.0</td>\n",
       "      <td>0.0</td>\n",
       "    </tr>\n",
       "    <tr>\n",
       "      <th>5</th>\n",
       "      <td>100008</td>\n",
       "      <td>0</td>\n",
       "      <td>Cash loans</td>\n",
       "      <td>M</td>\n",
       "      <td>N</td>\n",
       "      <td>Y</td>\n",
       "      <td>0</td>\n",
       "      <td>99000.0</td>\n",
       "      <td>490495.5</td>\n",
       "      <td>27517.5</td>\n",
       "      <td>...</td>\n",
       "      <td>0</td>\n",
       "      <td>0</td>\n",
       "      <td>0</td>\n",
       "      <td>0</td>\n",
       "      <td>0.0</td>\n",
       "      <td>0.0</td>\n",
       "      <td>0.0</td>\n",
       "      <td>0.0</td>\n",
       "      <td>1.0</td>\n",
       "      <td>1.0</td>\n",
       "    </tr>\n",
       "    <tr>\n",
       "      <th>6</th>\n",
       "      <td>100009</td>\n",
       "      <td>0</td>\n",
       "      <td>Cash loans</td>\n",
       "      <td>F</td>\n",
       "      <td>Y</td>\n",
       "      <td>Y</td>\n",
       "      <td>1</td>\n",
       "      <td>171000.0</td>\n",
       "      <td>1560726.0</td>\n",
       "      <td>41301.0</td>\n",
       "      <td>...</td>\n",
       "      <td>0</td>\n",
       "      <td>0</td>\n",
       "      <td>0</td>\n",
       "      <td>0</td>\n",
       "      <td>0.0</td>\n",
       "      <td>0.0</td>\n",
       "      <td>0.0</td>\n",
       "      <td>1.0</td>\n",
       "      <td>1.0</td>\n",
       "      <td>2.0</td>\n",
       "    </tr>\n",
       "    <tr>\n",
       "      <th>7</th>\n",
       "      <td>100010</td>\n",
       "      <td>0</td>\n",
       "      <td>Cash loans</td>\n",
       "      <td>M</td>\n",
       "      <td>Y</td>\n",
       "      <td>Y</td>\n",
       "      <td>0</td>\n",
       "      <td>360000.0</td>\n",
       "      <td>1530000.0</td>\n",
       "      <td>42075.0</td>\n",
       "      <td>...</td>\n",
       "      <td>0</td>\n",
       "      <td>0</td>\n",
       "      <td>0</td>\n",
       "      <td>0</td>\n",
       "      <td>0.0</td>\n",
       "      <td>0.0</td>\n",
       "      <td>0.0</td>\n",
       "      <td>0.0</td>\n",
       "      <td>0.0</td>\n",
       "      <td>0.0</td>\n",
       "    </tr>\n",
       "    <tr>\n",
       "      <th>8</th>\n",
       "      <td>100011</td>\n",
       "      <td>0</td>\n",
       "      <td>Cash loans</td>\n",
       "      <td>F</td>\n",
       "      <td>N</td>\n",
       "      <td>Y</td>\n",
       "      <td>0</td>\n",
       "      <td>112500.0</td>\n",
       "      <td>1019610.0</td>\n",
       "      <td>33826.5</td>\n",
       "      <td>...</td>\n",
       "      <td>0</td>\n",
       "      <td>0</td>\n",
       "      <td>0</td>\n",
       "      <td>0</td>\n",
       "      <td>0.0</td>\n",
       "      <td>0.0</td>\n",
       "      <td>0.0</td>\n",
       "      <td>0.0</td>\n",
       "      <td>0.0</td>\n",
       "      <td>1.0</td>\n",
       "    </tr>\n",
       "    <tr>\n",
       "      <th>9</th>\n",
       "      <td>100012</td>\n",
       "      <td>0</td>\n",
       "      <td>Revolving loans</td>\n",
       "      <td>M</td>\n",
       "      <td>N</td>\n",
       "      <td>Y</td>\n",
       "      <td>0</td>\n",
       "      <td>135000.0</td>\n",
       "      <td>405000.0</td>\n",
       "      <td>20250.0</td>\n",
       "      <td>...</td>\n",
       "      <td>0</td>\n",
       "      <td>0</td>\n",
       "      <td>0</td>\n",
       "      <td>0</td>\n",
       "      <td>NaN</td>\n",
       "      <td>NaN</td>\n",
       "      <td>NaN</td>\n",
       "      <td>NaN</td>\n",
       "      <td>NaN</td>\n",
       "      <td>NaN</td>\n",
       "    </tr>\n",
       "  </tbody>\n",
       "</table>\n",
       "<p>10 rows × 122 columns</p>\n",
       "</div>"
      ],
      "text/plain": [
       "   SK_ID_CURR  TARGET NAME_CONTRACT_TYPE CODE_GENDER FLAG_OWN_CAR  \\\n",
       "0      100002       1         Cash loans           M            N   \n",
       "1      100003       0         Cash loans           F            N   \n",
       "2      100004       0    Revolving loans           M            Y   \n",
       "3      100006       0         Cash loans           F            N   \n",
       "4      100007       0         Cash loans           M            N   \n",
       "5      100008       0         Cash loans           M            N   \n",
       "6      100009       0         Cash loans           F            Y   \n",
       "7      100010       0         Cash loans           M            Y   \n",
       "8      100011       0         Cash loans           F            N   \n",
       "9      100012       0    Revolving loans           M            N   \n",
       "\n",
       "  FLAG_OWN_REALTY  CNT_CHILDREN  AMT_INCOME_TOTAL  AMT_CREDIT  AMT_ANNUITY  \\\n",
       "0               Y             0          202500.0    406597.5      24700.5   \n",
       "1               N             0          270000.0   1293502.5      35698.5   \n",
       "2               Y             0           67500.0    135000.0       6750.0   \n",
       "3               Y             0          135000.0    312682.5      29686.5   \n",
       "4               Y             0          121500.0    513000.0      21865.5   \n",
       "5               Y             0           99000.0    490495.5      27517.5   \n",
       "6               Y             1          171000.0   1560726.0      41301.0   \n",
       "7               Y             0          360000.0   1530000.0      42075.0   \n",
       "8               Y             0          112500.0   1019610.0      33826.5   \n",
       "9               Y             0          135000.0    405000.0      20250.0   \n",
       "\n",
       "   ...  FLAG_DOCUMENT_18 FLAG_DOCUMENT_19 FLAG_DOCUMENT_20 FLAG_DOCUMENT_21  \\\n",
       "0  ...                 0                0                0                0   \n",
       "1  ...                 0                0                0                0   \n",
       "2  ...                 0                0                0                0   \n",
       "3  ...                 0                0                0                0   \n",
       "4  ...                 0                0                0                0   \n",
       "5  ...                 0                0                0                0   \n",
       "6  ...                 0                0                0                0   \n",
       "7  ...                 0                0                0                0   \n",
       "8  ...                 0                0                0                0   \n",
       "9  ...                 0                0                0                0   \n",
       "\n",
       "  AMT_REQ_CREDIT_BUREAU_HOUR AMT_REQ_CREDIT_BUREAU_DAY  \\\n",
       "0                        0.0                       0.0   \n",
       "1                        0.0                       0.0   \n",
       "2                        0.0                       0.0   \n",
       "3                        NaN                       NaN   \n",
       "4                        0.0                       0.0   \n",
       "5                        0.0                       0.0   \n",
       "6                        0.0                       0.0   \n",
       "7                        0.0                       0.0   \n",
       "8                        0.0                       0.0   \n",
       "9                        NaN                       NaN   \n",
       "\n",
       "   AMT_REQ_CREDIT_BUREAU_WEEK  AMT_REQ_CREDIT_BUREAU_MON  \\\n",
       "0                         0.0                        0.0   \n",
       "1                         0.0                        0.0   \n",
       "2                         0.0                        0.0   \n",
       "3                         NaN                        NaN   \n",
       "4                         0.0                        0.0   \n",
       "5                         0.0                        0.0   \n",
       "6                         0.0                        1.0   \n",
       "7                         0.0                        0.0   \n",
       "8                         0.0                        0.0   \n",
       "9                         NaN                        NaN   \n",
       "\n",
       "   AMT_REQ_CREDIT_BUREAU_QRT  AMT_REQ_CREDIT_BUREAU_YEAR  \n",
       "0                        0.0                         1.0  \n",
       "1                        0.0                         0.0  \n",
       "2                        0.0                         0.0  \n",
       "3                        NaN                         NaN  \n",
       "4                        0.0                         0.0  \n",
       "5                        1.0                         1.0  \n",
       "6                        1.0                         2.0  \n",
       "7                        0.0                         0.0  \n",
       "8                        0.0                         1.0  \n",
       "9                        NaN                         NaN  \n",
       "\n",
       "[10 rows x 122 columns]"
      ]
     },
     "execution_count": 4,
     "metadata": {},
     "output_type": "execute_result"
    }
   ],
   "source": [
    "#Define Path\n",
    "\n",
    "file_path = Path(\"Data/application_train.csv\")\n",
    "training_df = pd.read_csv(file_path)\n",
    "training_df.head(10)"
   ]
  },
  {
   "cell_type": "code",
   "execution_count": 5,
   "id": "05a81484-358e-4f23-84d4-afddabc59654",
   "metadata": {},
   "outputs": [
    {
     "data": {
      "text/html": [
       "<div>\n",
       "<style scoped>\n",
       "    .dataframe tbody tr th:only-of-type {\n",
       "        vertical-align: middle;\n",
       "    }\n",
       "\n",
       "    .dataframe tbody tr th {\n",
       "        vertical-align: top;\n",
       "    }\n",
       "\n",
       "    .dataframe thead th {\n",
       "        text-align: right;\n",
       "    }\n",
       "</style>\n",
       "<table border=\"1\" class=\"dataframe\">\n",
       "  <thead>\n",
       "    <tr style=\"text-align: right;\">\n",
       "      <th></th>\n",
       "      <th>SK_ID_PREV</th>\n",
       "      <th>SK_ID_CURR</th>\n",
       "      <th>MONTHS_BALANCE</th>\n",
       "      <th>AMT_BALANCE</th>\n",
       "      <th>AMT_CREDIT_LIMIT_ACTUAL</th>\n",
       "      <th>AMT_DRAWINGS_ATM_CURRENT</th>\n",
       "      <th>AMT_DRAWINGS_CURRENT</th>\n",
       "      <th>AMT_DRAWINGS_OTHER_CURRENT</th>\n",
       "      <th>AMT_DRAWINGS_POS_CURRENT</th>\n",
       "      <th>AMT_INST_MIN_REGULARITY</th>\n",
       "      <th>...</th>\n",
       "      <th>AMT_RECIVABLE</th>\n",
       "      <th>AMT_TOTAL_RECEIVABLE</th>\n",
       "      <th>CNT_DRAWINGS_ATM_CURRENT</th>\n",
       "      <th>CNT_DRAWINGS_CURRENT</th>\n",
       "      <th>CNT_DRAWINGS_OTHER_CURRENT</th>\n",
       "      <th>CNT_DRAWINGS_POS_CURRENT</th>\n",
       "      <th>CNT_INSTALMENT_MATURE_CUM</th>\n",
       "      <th>NAME_CONTRACT_STATUS</th>\n",
       "      <th>SK_DPD</th>\n",
       "      <th>SK_DPD_DEF</th>\n",
       "    </tr>\n",
       "  </thead>\n",
       "  <tbody>\n",
       "    <tr>\n",
       "      <th>0</th>\n",
       "      <td>2562384</td>\n",
       "      <td>378907</td>\n",
       "      <td>-6</td>\n",
       "      <td>56.970</td>\n",
       "      <td>135000</td>\n",
       "      <td>0.0</td>\n",
       "      <td>877.5</td>\n",
       "      <td>0.0</td>\n",
       "      <td>877.5</td>\n",
       "      <td>1700.325</td>\n",
       "      <td>...</td>\n",
       "      <td>0.000</td>\n",
       "      <td>0.000</td>\n",
       "      <td>0.0</td>\n",
       "      <td>1</td>\n",
       "      <td>0.0</td>\n",
       "      <td>1.0</td>\n",
       "      <td>35.0</td>\n",
       "      <td>Active</td>\n",
       "      <td>0</td>\n",
       "      <td>0</td>\n",
       "    </tr>\n",
       "    <tr>\n",
       "      <th>1</th>\n",
       "      <td>2582071</td>\n",
       "      <td>363914</td>\n",
       "      <td>-1</td>\n",
       "      <td>63975.555</td>\n",
       "      <td>45000</td>\n",
       "      <td>2250.0</td>\n",
       "      <td>2250.0</td>\n",
       "      <td>0.0</td>\n",
       "      <td>0.0</td>\n",
       "      <td>2250.000</td>\n",
       "      <td>...</td>\n",
       "      <td>64875.555</td>\n",
       "      <td>64875.555</td>\n",
       "      <td>1.0</td>\n",
       "      <td>1</td>\n",
       "      <td>0.0</td>\n",
       "      <td>0.0</td>\n",
       "      <td>69.0</td>\n",
       "      <td>Active</td>\n",
       "      <td>0</td>\n",
       "      <td>0</td>\n",
       "    </tr>\n",
       "    <tr>\n",
       "      <th>2</th>\n",
       "      <td>1740877</td>\n",
       "      <td>371185</td>\n",
       "      <td>-7</td>\n",
       "      <td>31815.225</td>\n",
       "      <td>450000</td>\n",
       "      <td>0.0</td>\n",
       "      <td>0.0</td>\n",
       "      <td>0.0</td>\n",
       "      <td>0.0</td>\n",
       "      <td>2250.000</td>\n",
       "      <td>...</td>\n",
       "      <td>31460.085</td>\n",
       "      <td>31460.085</td>\n",
       "      <td>0.0</td>\n",
       "      <td>0</td>\n",
       "      <td>0.0</td>\n",
       "      <td>0.0</td>\n",
       "      <td>30.0</td>\n",
       "      <td>Active</td>\n",
       "      <td>0</td>\n",
       "      <td>0</td>\n",
       "    </tr>\n",
       "    <tr>\n",
       "      <th>3</th>\n",
       "      <td>1389973</td>\n",
       "      <td>337855</td>\n",
       "      <td>-4</td>\n",
       "      <td>236572.110</td>\n",
       "      <td>225000</td>\n",
       "      <td>2250.0</td>\n",
       "      <td>2250.0</td>\n",
       "      <td>0.0</td>\n",
       "      <td>0.0</td>\n",
       "      <td>11795.760</td>\n",
       "      <td>...</td>\n",
       "      <td>233048.970</td>\n",
       "      <td>233048.970</td>\n",
       "      <td>1.0</td>\n",
       "      <td>1</td>\n",
       "      <td>0.0</td>\n",
       "      <td>0.0</td>\n",
       "      <td>10.0</td>\n",
       "      <td>Active</td>\n",
       "      <td>0</td>\n",
       "      <td>0</td>\n",
       "    </tr>\n",
       "    <tr>\n",
       "      <th>4</th>\n",
       "      <td>1891521</td>\n",
       "      <td>126868</td>\n",
       "      <td>-1</td>\n",
       "      <td>453919.455</td>\n",
       "      <td>450000</td>\n",
       "      <td>0.0</td>\n",
       "      <td>11547.0</td>\n",
       "      <td>0.0</td>\n",
       "      <td>11547.0</td>\n",
       "      <td>22924.890</td>\n",
       "      <td>...</td>\n",
       "      <td>453919.455</td>\n",
       "      <td>453919.455</td>\n",
       "      <td>0.0</td>\n",
       "      <td>1</td>\n",
       "      <td>0.0</td>\n",
       "      <td>1.0</td>\n",
       "      <td>101.0</td>\n",
       "      <td>Active</td>\n",
       "      <td>0</td>\n",
       "      <td>0</td>\n",
       "    </tr>\n",
       "  </tbody>\n",
       "</table>\n",
       "<p>5 rows × 23 columns</p>\n",
       "</div>"
      ],
      "text/plain": [
       "   SK_ID_PREV  SK_ID_CURR  MONTHS_BALANCE  AMT_BALANCE  \\\n",
       "0     2562384      378907              -6       56.970   \n",
       "1     2582071      363914              -1    63975.555   \n",
       "2     1740877      371185              -7    31815.225   \n",
       "3     1389973      337855              -4   236572.110   \n",
       "4     1891521      126868              -1   453919.455   \n",
       "\n",
       "   AMT_CREDIT_LIMIT_ACTUAL  AMT_DRAWINGS_ATM_CURRENT  AMT_DRAWINGS_CURRENT  \\\n",
       "0                   135000                       0.0                 877.5   \n",
       "1                    45000                    2250.0                2250.0   \n",
       "2                   450000                       0.0                   0.0   \n",
       "3                   225000                    2250.0                2250.0   \n",
       "4                   450000                       0.0               11547.0   \n",
       "\n",
       "   AMT_DRAWINGS_OTHER_CURRENT  AMT_DRAWINGS_POS_CURRENT  \\\n",
       "0                         0.0                     877.5   \n",
       "1                         0.0                       0.0   \n",
       "2                         0.0                       0.0   \n",
       "3                         0.0                       0.0   \n",
       "4                         0.0                   11547.0   \n",
       "\n",
       "   AMT_INST_MIN_REGULARITY  ...  AMT_RECIVABLE  AMT_TOTAL_RECEIVABLE  \\\n",
       "0                 1700.325  ...          0.000                 0.000   \n",
       "1                 2250.000  ...      64875.555             64875.555   \n",
       "2                 2250.000  ...      31460.085             31460.085   \n",
       "3                11795.760  ...     233048.970            233048.970   \n",
       "4                22924.890  ...     453919.455            453919.455   \n",
       "\n",
       "   CNT_DRAWINGS_ATM_CURRENT  CNT_DRAWINGS_CURRENT  CNT_DRAWINGS_OTHER_CURRENT  \\\n",
       "0                       0.0                     1                         0.0   \n",
       "1                       1.0                     1                         0.0   \n",
       "2                       0.0                     0                         0.0   \n",
       "3                       1.0                     1                         0.0   \n",
       "4                       0.0                     1                         0.0   \n",
       "\n",
       "   CNT_DRAWINGS_POS_CURRENT  CNT_INSTALMENT_MATURE_CUM  NAME_CONTRACT_STATUS  \\\n",
       "0                       1.0                       35.0                Active   \n",
       "1                       0.0                       69.0                Active   \n",
       "2                       0.0                       30.0                Active   \n",
       "3                       0.0                       10.0                Active   \n",
       "4                       1.0                      101.0                Active   \n",
       "\n",
       "   SK_DPD  SK_DPD_DEF  \n",
       "0       0           0  \n",
       "1       0           0  \n",
       "2       0           0  \n",
       "3       0           0  \n",
       "4       0           0  \n",
       "\n",
       "[5 rows x 23 columns]"
      ]
     },
     "execution_count": 5,
     "metadata": {},
     "output_type": "execute_result"
    }
   ],
   "source": [
    "cc_path = Path(\"Data/credit_card_balance.csv\")\n",
    "cc_df = pd.read_csv(cc_path)\n",
    "\n",
    "cc_df.head()\n"
   ]
  },
  {
   "cell_type": "code",
   "execution_count": 6,
   "id": "c15d3fd6-86e1-4577-a618-6facfb872a4f",
   "metadata": {},
   "outputs": [],
   "source": [
    "merged = pd.merge(left=training_df, right=cc_df, how='left', left_on='SK_ID_CURR', right_on='SK_ID_CURR')"
   ]
  },
  {
   "cell_type": "code",
   "execution_count": 7,
   "id": "5f4092e5-20ef-4495-81a1-2535cdb43396",
   "metadata": {},
   "outputs": [],
   "source": [
    "new_merged = merged.drop(columns=['SK_ID_PREV','FLAG_OWN_CAR','FLAG_OWN_REALTY','CNT_CHILDREN','AMT_ANNUITY','NAME_TYPE_SUITE','NAME_FAMILY_STATUS','REGION_POPULATION_RELATIVE','OWN_CAR_AGE','CNT_FAM_MEMBERS','REGION_RATING_CLIENT','REGION_RATING_CLIENT_W_CITY','WEEKDAY_APPR_PROCESS_START','HOUR_APPR_PROCESS_START','REG_REGION_NOT_WORK_REGION','LIVE_REGION_NOT_WORK_REGION','REG_CITY_NOT_WORK_CITY','LIVE_CITY_NOT_WORK_CITY','EXT_SOURCE_1','EXT_SOURCE_2','EXT_SOURCE_3','APARTMENTS_AVG','BASEMENTAREA_AVG','YEARS_BEGINEXPLUATATION_AVG','YEARS_BUILD_AVG','COMMONAREA_AVG','ELEVATORS_AVG','ENTRANCES_AVG','FLOORSMAX_AVG','FLOORSMIN_AVG','LANDAREA_AVG','LIVINGAPARTMENTS_AVG','LIVINGAREA_AVG','NONLIVINGAPARTMENTS_AVG','NONLIVINGAREA_AVG','APARTMENTS_MODE','BASEMENTAREA_MODE','YEARS_BEGINEXPLUATATION_MODE','YEARS_BUILD_MODE','COMMONAREA_MODE','ELEVATORS_MODE','ENTRANCES_MODE','FLOORSMAX_MODE','FLOORSMIN_MODE','LANDAREA_MODE','LIVINGAPARTMENTS_MODE','LIVINGAREA_MODE','NONLIVINGAPARTMENTS_MODE','NONLIVINGAREA_MODE','APARTMENTS_MEDI','BASEMENTAREA_MEDI','BASEMENTAREA_MEDI','YEARS_BUILD_MEDI','COMMONAREA_MEDI','ELEVATORS_MEDI','ENTRANCES_MEDI','FLOORSMAX_MEDI','FLOORSMIN_MEDI','LANDAREA_MEDI','LIVINGAPARTMENTS_MEDI','LIVINGAREA_MEDI','NONLIVINGAPARTMENTS_MEDI','NONLIVINGAREA_MEDI','FONDKAPREMONT_MODE','HOUSETYPE_MODE','TOTALAREA_MODE','WALLSMATERIAL_MODE','EMERGENCYSTATE_MODE','FLAG_DOCUMENT_2','FLAG_DOCUMENT_3','FLAG_DOCUMENT_4','FLAG_DOCUMENT_5','FLAG_DOCUMENT_6','FLAG_DOCUMENT_7','FLAG_DOCUMENT_8','FLAG_DOCUMENT_9','FLAG_DOCUMENT_10','FLAG_DOCUMENT_11','FLAG_DOCUMENT_12','FLAG_DOCUMENT_13','FLAG_DOCUMENT_14','FLAG_DOCUMENT_15','FLAG_DOCUMENT_16','FLAG_DOCUMENT_17','FLAG_DOCUMENT_18','FLAG_DOCUMENT_19','FLAG_DOCUMENT_20','FLAG_DOCUMENT_21'])"
   ]
  },
  {
   "cell_type": "code",
   "execution_count": 8,
   "id": "af9ef7a5-4616-43b8-a4d4-66083226a123",
   "metadata": {},
   "outputs": [
    {
     "data": {
      "text/plain": [
       "SK_ID_CURR                       0.000000\n",
       "TARGET                           0.000000\n",
       "NAME_CONTRACT_TYPE               0.000000\n",
       "CODE_GENDER                      0.000000\n",
       "AMT_INCOME_TOTAL                 0.000000\n",
       "AMT_CREDIT                       0.000000\n",
       "AMT_GOODS_PRICE                  0.012353\n",
       "NAME_INCOME_TYPE                 0.000000\n",
       "NAME_EDUCATION_TYPE              0.000000\n",
       "NAME_HOUSING_TYPE                0.000000\n",
       "DAYS_BIRTH                       0.000000\n",
       "DAYS_EMPLOYED                    0.000000\n",
       "DAYS_REGISTRATION                0.000000\n",
       "DAYS_ID_PUBLISH                  0.000000\n",
       "FLAG_MOBIL                       0.000000\n",
       "FLAG_EMP_PHONE                   0.000000\n",
       "FLAG_WORK_PHONE                  0.000000\n",
       "FLAG_CONT_MOBILE                 0.000000\n",
       "FLAG_PHONE                       0.000000\n",
       "FLAG_EMAIL                       0.000000\n",
       "OCCUPATION_TYPE                 29.810232\n",
       "REG_REGION_NOT_LIVE_REGION       0.000000\n",
       "REG_CITY_NOT_LIVE_CITY           0.000000\n",
       "ORGANIZATION_TYPE                0.000000\n",
       "YEARS_BEGINEXPLUATATION_MEDI    45.813208\n",
       "OBS_30_CNT_SOCIAL_CIRCLE         0.072581\n",
       "DEF_30_CNT_SOCIAL_CIRCLE         0.072581\n",
       "OBS_60_CNT_SOCIAL_CIRCLE         0.072581\n",
       "DEF_60_CNT_SOCIAL_CIRCLE         0.072581\n",
       "DAYS_LAST_PHONE_CHANGE           0.000029\n",
       "AMT_REQ_CREDIT_BUREAU_HOUR      11.038891\n",
       "AMT_REQ_CREDIT_BUREAU_DAY       11.038891\n",
       "AMT_REQ_CREDIT_BUREAU_WEEK      11.038891\n",
       "AMT_REQ_CREDIT_BUREAU_MON       11.038891\n",
       "AMT_REQ_CREDIT_BUREAU_QRT       11.038891\n",
       "AMT_REQ_CREDIT_BUREAU_YEAR      11.038891\n",
       "MONTHS_BALANCE                   6.397026\n",
       "AMT_BALANCE                      6.397026\n",
       "AMT_CREDIT_LIMIT_ACTUAL          6.397026\n",
       "AMT_DRAWINGS_ATM_CURRENT        23.962389\n",
       "AMT_DRAWINGS_CURRENT             6.397026\n",
       "AMT_DRAWINGS_OTHER_CURRENT      23.962389\n",
       "AMT_DRAWINGS_POS_CURRENT        23.962389\n",
       "AMT_INST_MIN_REGULARITY         14.063506\n",
       "AMT_PAYMENT_CURRENT             24.378184\n",
       "AMT_PAYMENT_TOTAL_CURRENT        6.397026\n",
       "AMT_RECEIVABLE_PRINCIPAL         6.397026\n",
       "AMT_RECIVABLE                    6.397026\n",
       "AMT_TOTAL_RECEIVABLE             6.397026\n",
       "CNT_DRAWINGS_ATM_CURRENT        23.962389\n",
       "CNT_DRAWINGS_CURRENT             6.397026\n",
       "CNT_DRAWINGS_OTHER_CURRENT      23.962389\n",
       "CNT_DRAWINGS_POS_CURRENT        23.962389\n",
       "CNT_INSTALMENT_MATURE_CUM       14.063506\n",
       "NAME_CONTRACT_STATUS             6.397026\n",
       "SK_DPD                           6.397026\n",
       "SK_DPD_DEF                       6.397026\n",
       "dtype: float64"
      ]
     },
     "execution_count": 8,
     "metadata": {},
     "output_type": "execute_result"
    }
   ],
   "source": [
    "#Identify Null Values\n",
    "\n",
    "new_merged.isnull().sum() / len(new_merged) * 100"
   ]
  },
  {
   "cell_type": "code",
   "execution_count": 9,
   "id": "634b8427-aa2a-4cae-8e39-d3c3e6384643",
   "metadata": {},
   "outputs": [
    {
     "data": {
      "text/plain": [
       "0          False\n",
       "1          False\n",
       "2          False\n",
       "3          False\n",
       "4           True\n",
       "           ...  \n",
       "3448566    False\n",
       "3448567    False\n",
       "3448568    False\n",
       "3448569    False\n",
       "3448570    False\n",
       "Name: SK_ID_CURR, Length: 3448571, dtype: bool"
      ]
     },
     "execution_count": 9,
     "metadata": {},
     "output_type": "execute_result"
    }
   ],
   "source": [
    "# Identify Duplicates\n",
    "\n",
    "new_merged['SK_ID_CURR'].duplicated()"
   ]
  },
  {
   "cell_type": "code",
   "execution_count": 10,
   "id": "8eec84ca-e5ed-4d54-ab67-6e3d4081d29a",
   "metadata": {},
   "outputs": [],
   "source": [
    "#Drop Null Values\n",
    "# training_df_2 = new_merged.dropna()\n",
    "\n",
    "def fill_in(data):\n",
    "    for i in data.columns:\n",
    "        if data[i].dtype == \"object\":\n",
    "            data[i] = data[i].fillna(\"\")\n",
    "        elif (data[i].dtype == \"int64\" or data[i].dtype == \"float64\"):\n",
    "            data[i] = data[i].fillna(data[i].mean())\n",
    "        else:\n",
    "            pass\n",
    "    return data\n",
    "\n",
    "training_df_2 = fill_in(new_merged)"
   ]
  },
  {
   "cell_type": "code",
   "execution_count": 11,
   "id": "6d0f46b4-80af-4299-95a3-284cf0665a31",
   "metadata": {},
   "outputs": [],
   "source": [
    "#Generate dummie values for descriptive data\n",
    "\n",
    "training_df_3 = pd.get_dummies(training_df_2,columns=['NAME_HOUSING_TYPE','NAME_CONTRACT_TYPE','CODE_GENDER','NAME_INCOME_TYPE','NAME_EDUCATION_TYPE','ORGANIZATION_TYPE','NAME_CONTRACT_STATUS','OCCUPATION_TYPE'])"
   ]
  },
  {
   "cell_type": "code",
   "execution_count": 12,
   "id": "84a0925c-9491-4234-b748-64934012f7d0",
   "metadata": {},
   "outputs": [],
   "source": [
    "training_df_3[\"AGE\"] = round(abs(training_df_3[\"DAYS_BIRTH\"])/365)"
   ]
  },
  {
   "cell_type": "code",
   "execution_count": 13,
   "id": "df6a597f-06d9-4016-a3a1-cc6a3b95a92e",
   "metadata": {},
   "outputs": [],
   "source": [
    "training_df_3[\"EMPLOYED_LENGTH\"] = round(abs(training_df_3[\"DAYS_EMPLOYED\"])/365)"
   ]
  },
  {
   "cell_type": "code",
   "execution_count": 14,
   "id": "43ccf18a-9e1a-484d-bc7e-0b3b600d7521",
   "metadata": {},
   "outputs": [],
   "source": [
    "training_df_3[\"REGISTRATION_LENGTH\"] = round(abs(training_df_3[\"DAYS_REGISTRATION\"])/365)"
   ]
  },
  {
   "cell_type": "code",
   "execution_count": 15,
   "id": "0bdc84bf-db92-4f7d-92ca-65fa00103e21",
   "metadata": {},
   "outputs": [],
   "source": [
    "training_df_3[\"PUBLISH_LENGTH\"] = round(abs(training_df_3[\"DAYS_ID_PUBLISH\"])/365)"
   ]
  },
  {
   "cell_type": "code",
   "execution_count": null,
   "id": "d6daa822-1f5f-4a20-bd4d-36ee77116db8",
   "metadata": {},
   "outputs": [],
   "source": [
    "# Sort column SK_ID_CURR so we don't have duplicates in the train/test data"
   ]
  },
  {
   "cell_type": "code",
   "execution_count": 16,
   "id": "b060149a-f858-41d1-8192-2df5452c4ed4",
   "metadata": {},
   "outputs": [],
   "source": [
    "df_4 = training_df_3.sort_values(by=['SK_ID_CURR'])"
   ]
  },
  {
   "cell_type": "code",
   "execution_count": 18,
   "id": "33f9e0b1-be70-4b12-9c98-056bb7da6057",
   "metadata": {},
   "outputs": [],
   "source": [
    "#Define X and y variables\n",
    "\n",
    "y = df_4[\"TARGET\"].values\n",
    "y = y.reshape(-1, 1)\n",
    "\n",
    "X = df_4.drop(columns=[\"TARGET\",\"DAYS_BIRTH\",'DAYS_EMPLOYED','DAYS_REGISTRATION','DAYS_ID_PUBLISH'])\n"
   ]
  },
  {
   "cell_type": "code",
   "execution_count": 19,
   "id": "4dbf7427-7c05-46b5-bb89-a7b4803904cd",
   "metadata": {},
   "outputs": [],
   "source": [
    "# Manually splitting the data\n",
    "split = int(0.7 * len(X))\n",
    "\n",
    "X_train = X[: split]\n",
    "X_test = X[split:]\n",
    "\n",
    "y_train = y[: split]\n",
    "y_test = y[split:]"
   ]
  },
  {
   "cell_type": "code",
   "execution_count": 20,
   "id": "24d07cf7-cd7e-462e-8694-abc0c50a9ffb",
   "metadata": {},
   "outputs": [
    {
     "data": {
      "text/plain": [
       "(2413999, 157)"
      ]
     },
     "execution_count": 20,
     "metadata": {},
     "output_type": "execute_result"
    }
   ],
   "source": [
    "X_train.shape"
   ]
  },
  {
   "cell_type": "code",
   "execution_count": 21,
   "id": "9a3493cc-2d6b-4279-a3c9-9c9541f1490c",
   "metadata": {},
   "outputs": [],
   "source": [
    "#Train/Test Split\n",
    "\n",
    "X_train, X_test, y_train, y_test = train_test_split(X_train, y_train, random_state=78)"
   ]
  },
  {
   "cell_type": "code",
   "execution_count": 22,
   "id": "fc755a12-c67b-46f8-aa82-87eb3ffa002b",
   "metadata": {},
   "outputs": [],
   "source": [
    "# Create scaler instance\n",
    "X_scaler = StandardScaler()"
   ]
  },
  {
   "cell_type": "code",
   "execution_count": 23,
   "id": "264d9576-be0b-497d-9684-0cc0b92f8d8d",
   "metadata": {},
   "outputs": [
    {
     "data": {
      "text/plain": [
       "StandardScaler()"
      ]
     },
     "execution_count": 23,
     "metadata": {},
     "output_type": "execute_result"
    }
   ],
   "source": [
    "X_scaler.fit(X_train)"
   ]
  },
  {
   "cell_type": "code",
   "execution_count": 24,
   "id": "1b7c0a87-e671-46a2-9dd9-fcad55ac7f64",
   "metadata": {},
   "outputs": [],
   "source": [
    "X_train_scaled = X_scaler.transform(X_train)\n",
    "X_test_scaled = X_scaler.transform(X_test)"
   ]
  },
  {
   "cell_type": "code",
   "execution_count": 25,
   "id": "bdc40e62-d18d-4417-b122-330ca6139b40",
   "metadata": {},
   "outputs": [],
   "source": [
    "number_inputs = 255\n",
    "number_hidden_nodes = 255\n",
    "dropout_fraction = 0.20\n",
    "\n",
    "nn = Sequential()\n",
    "\n",
    "nn.add(Dense(units=number_hidden_nodes, input_dim=number_inputs, activation=\"tanh\"))\n",
    "nn.add(GaussianNoise(0.1, input_shape=(2,)))\n",
    "nn.add(Dropout(dropout_fraction))\n",
    "\n",
    "nn.add(Dense(units=125, input_dim=255, activation=\"tanh\"))\n",
    "nn.add(GaussianNoise(0.1, input_shape=(2,)))\n",
    "nn.add(Dropout(dropout_fraction))\n",
    "\n",
    "nn.add(Dense(units=60, input_dim=255, activation=\"tanh\"))\n",
    "nn.add(GaussianNoise(0.1, input_shape=(2,)))\n",
    "nn.add(Dropout(dropout_fraction))\n",
    "\n",
    "nn.add(Dense(1, activation=\"sigmoid\"))"
   ]
  },
  {
   "cell_type": "code",
   "execution_count": 26,
   "id": "b61dd4b4-1e96-4b06-8df5-c75f86e83e39",
   "metadata": {},
   "outputs": [],
   "source": [
    "# This is \n",
    "\n",
    "# input_ = keras.layers.Input(shape=[307511, 158])\n",
    "# flatten = keras.layers.Flatten(input_shape=[307511, 158])(input_)\n",
    "# hidden1 = keras.layers.Dense(100, activation=\"relu\")(flatten)\n",
    "# hidden2 = keras.layers.Dense(50, activation='relu')(hidden1)\n",
    "# hidden3 = keras.layers.Dense(25, activation='relu')(hidden2)\n",
    "# reshap = keras.layers.Reshape((307511, 158))(hidden3)\n",
    "# concat_ = keras.layers.Concatenate()([input_, reshap])\n",
    "# flatten2 = keras.layers.Flatten(input_shape=[307511, 158])(concat_)\n",
    "# output = keras.layers.Dense(1, activation='sigmoid')(flatten2)\n",
    "# nn = keras.Model(inputs=[input_], outputs=[output] )"
   ]
  },
  {
   "cell_type": "code",
   "execution_count": 27,
   "id": "877324a5-d46e-4d5d-bb2f-24378c4fea34",
   "metadata": {},
   "outputs": [],
   "source": [
    "#Optimizing the Learning Rate\n",
    "\n",
    "# lr_schedule = keras.optimizers.schedules.ExponentialDecay(\n",
    "#     initial_learning_rate=1e-2,\n",
    "#     decay_steps=10000,\n",
    "#     decay_rate=0.9)\n",
    "# optimizer = keras.optimizers.SGD(learning_rate=lr_schedule)"
   ]
  },
  {
   "cell_type": "code",
   "execution_count": 28,
   "id": "184f5c9e-7782-41b6-b06a-8b1b9e366df9",
   "metadata": {},
   "outputs": [],
   "source": [
    "#2 nn.compile(loss=\"binary_crossentropy\", optimizer=tf.keras.optimizers.SGD(learning_rate=lr_schedule), metrics=[\"accuracy\"])\n",
    "\n",
    "nn.compile(loss=\"binary_crossentropy\", optimizer='adam', metrics=[\"accuracy\"]) #1\n",
    "\n",
    "#3 model.compile(loss=\"sparse_categorical_crossentropy\", optimizer=\"sgd\",metrics=[\"accuracy\"])"
   ]
  },
  {
   "cell_type": "code",
   "execution_count": 29,
   "id": "61a40c7b-29b2-4872-ac03-bc880124024f",
   "metadata": {},
   "outputs": [
    {
     "name": "stdout",
     "output_type": "stream",
     "text": [
      "Epoch 1/30\n",
      "56579/56579 [==============================] - 109s 2ms/step - loss: 0.2076 - accuracy: 0.9365\n",
      "Epoch 2/30\n",
      "56579/56579 [==============================] - 125s 2ms/step - loss: 0.1561 - accuracy: 0.95083s - loss: 0 - ETA: 0s - los\n",
      "Epoch 3/30\n",
      "56579/56579 [==============================] - 107s 2ms/step - loss: 0.1404 - accuracy: 0.9557\n",
      "Epoch 4/30\n",
      "56579/56579 [==============================] - 121s 2ms/step - loss: 0.1316 - accuracy: 0.9582\n",
      "Epoch 5/30\n",
      "56579/56579 [==============================] - 121s 2ms/step - loss: 0.1262 - accuracy: 0.9599\n",
      "Epoch 6/30\n",
      "56579/56579 [==============================] - 111s 2ms/step - loss: 0.1220 - accuracy: 0.9613\n",
      "Epoch 7/30\n",
      "56579/56579 [==============================] - 133s 2ms/step - loss: 0.1192 - accuracy: 0.9622\n",
      "Epoch 8/30\n",
      "56579/56579 [==============================] - 116s 2ms/step - loss: 0.1167 - accuracy: 0.9630\n",
      "Epoch 9/30\n",
      "56579/56579 [==============================] - 132s 2ms/step - loss: 0.1149 - accuracy: 0.9636\n",
      "Epoch 10/30\n",
      "56579/56579 [==============================] - 118s 2ms/step - loss: 0.1133 - accuracy: 0.9640\n",
      "Epoch 11/30\n",
      "56579/56579 [==============================] - 123s 2ms/step - loss: 0.1120 - accuracy: 0.9645\n",
      "Epoch 12/30\n",
      "56579/56579 [==============================] - 108s 2ms/step - loss: 0.1105 - accuracy: 0.9649\n",
      "Epoch 13/30\n",
      "56579/56579 [==============================] - 110s 2ms/step - loss: 0.1097 - accuracy: 0.96520s - loss: 0\n",
      "Epoch 14/30\n",
      "56579/56579 [==============================] - 110s 2ms/step - loss: 0.1089 - accuracy: 0.9654\n",
      "Epoch 15/30\n",
      "56579/56579 [==============================] - 111s 2ms/step - loss: 0.1081 - accuracy: 0.9657\n",
      "Epoch 16/30\n",
      "56579/56579 [==============================] - 115s 2ms/step - loss: 0.1076 - accuracy: 0.9660\n",
      "Epoch 17/30\n",
      "56579/56579 [==============================] - 112s 2ms/step - loss: 0.1073 - accuracy: 0.9660\n",
      "Epoch 18/30\n",
      "56579/56579 [==============================] - 108s 2ms/step - loss: 0.1065 - accuracy: 0.9663\n",
      "Epoch 19/30\n",
      "56579/56579 [==============================] - 112s 2ms/step - loss: 0.1063 - accuracy: 0.9664\n",
      "Epoch 20/30\n",
      "56579/56579 [==============================] - 111s 2ms/step - loss: 0.1055 - accuracy: 0.9666\n",
      "Epoch 21/30\n",
      "56579/56579 [==============================] - 119s 2ms/step - loss: 0.1050 - accuracy: 0.9669\n",
      "Epoch 22/30\n",
      "56579/56579 [==============================] - 116s 2ms/step - loss: 0.1045 - accuracy: 0.96711s -\n",
      "Epoch 23/30\n",
      "56579/56579 [==============================] - 130s 2ms/step - loss: 0.1047 - accuracy: 0.9670\n",
      "Epoch 24/30\n",
      "56579/56579 [==============================] - 101s 2ms/step - loss: 0.1044 - accuracy: 0.9670\n",
      "Epoch 25/30\n",
      "56579/56579 [==============================] - 106s 2ms/step - loss: 0.1040 - accuracy: 0.9672\n",
      "Epoch 26/30\n",
      "56579/56579 [==============================] - 117s 2ms/step - loss: 0.1036 - accuracy: 0.9673\n",
      "Epoch 27/30\n",
      "56579/56579 [==============================] - 104s 2ms/step - loss: 0.1037 - accuracy: 0.9672\n",
      "Epoch 28/30\n",
      "56579/56579 [==============================] - 112s 2ms/step - loss: 0.1030 - accuracy: 0.9675\n",
      "Epoch 29/30\n",
      "56579/56579 [==============================] - 114s 2ms/step - loss: 0.1026 - accuracy: 0.96760s - loss: 0.1026 - accu\n",
      "Epoch 30/30\n",
      "56579/56579 [==============================] - 108s 2ms/step - loss: 0.1030 - accuracy: 0.9676\n"
     ]
    }
   ],
   "source": [
    "model = nn.fit(X_train_scaled, y_train, epochs=30)"
   ]
  },
  {
   "cell_type": "code",
   "execution_count": 30,
   "id": "a5045fc0-17b1-417c-ad9b-31dc239729e5",
   "metadata": {},
   "outputs": [
    {
     "data": {
      "text/plain": [
       "<AxesSubplot:>"
      ]
     },
     "execution_count": 30,
     "metadata": {},
     "output_type": "execute_result"
    },
    {
     "data": {
      "image/png": "[encoded data removed]",
      "text/plain": [
       "<Figure size 432x288 with 1 Axes>"
      ]
     },
     "metadata": {
      "needs_background": "light"
     },
     "output_type": "display_data"
    }
   ],
   "source": [
    "# Create a dataframe with the history dictionary\n",
    "df_plot = pd.DataFrame(model.history, index=range(1, len(model.history[\"loss\"]) + 1))\n",
    "\n",
    "# Plot the loss\n",
    "df_plot.plot(y=\"loss\")"
   ]
  },
  {
   "cell_type": "code",
   "execution_count": 31,
   "id": "e139bf30-9985-4991-bc76-87175a5e7d8b",
   "metadata": {},
   "outputs": [
    {
     "data": {
      "text/plain": [
       "<AxesSubplot:>"
      ]
     },
     "execution_count": 31,
     "metadata": {},
     "output_type": "execute_result"
    },
    {
     "data": {
      "image/png": "[encoded data removed]",
      "text/plain": [
       "<Figure size 432x288 with 1 Axes>"
      ]
     },
     "metadata": {
      "needs_background": "light"
     },
     "output_type": "display_data"
    }
   ],
   "source": [
    "df_plot.plot(y=\"accuracy\")"
   ]
  },
  {
   "cell_type": "code",
   "execution_count": 32,
   "id": "44cd4c32-6936-4793-ad4b-e4974954a0a4",
   "metadata": {},
   "outputs": [
    {
     "name": "stdout",
     "output_type": "stream",
     "text": [
      "Model: \"sequential\"\n",
      "_________________________________________________________________\n",
      "Layer (type)                 Output Shape              Param #   \n",
      "=================================================================\n",
      "module_wrapper (ModuleWrappe (None, 255)               40290     \n",
      "_________________________________________________________________\n",
      "module_wrapper_1 (ModuleWrap (None, 255)               0         \n",
      "_________________________________________________________________\n",
      "module_wrapper_2 (ModuleWrap (None, 255)               0         \n",
      "_________________________________________________________________\n",
      "module_wrapper_3 (ModuleWrap (None, 125)               32000     \n",
      "_________________________________________________________________\n",
      "module_wrapper_4 (ModuleWrap (None, 125)               0         \n",
      "_________________________________________________________________\n",
      "module_wrapper_5 (ModuleWrap (None, 125)               0         \n",
      "_________________________________________________________________\n",
      "module_wrapper_6 (ModuleWrap (None, 60)                7560      \n",
      "_________________________________________________________________\n",
      "module_wrapper_7 (ModuleWrap (None, 60)                0         \n",
      "_________________________________________________________________\n",
      "module_wrapper_8 (ModuleWrap (None, 60)                0         \n",
      "_________________________________________________________________\n",
      "module_wrapper_9 (ModuleWrap (None, 1)                 61        \n",
      "=================================================================\n",
      "Total params: 79,911\n",
      "Trainable params: 79,911\n",
      "Non-trainable params: 0\n",
      "_________________________________________________________________\n"
     ]
    }
   ],
   "source": [
    "nn.summary()"
   ]
  },
  {
   "cell_type": "code",
   "execution_count": 34,
   "id": "bebe56a8-7b9a-4c60-97f6-feb9da6276cf",
   "metadata": {},
   "outputs": [
    {
     "name": "stdout",
     "output_type": "stream",
     "text": [
      "37719/37719 [==============================] - 46s 1ms/step - loss: 0.0783 - accuracy: 0.9756\n"
     ]
    }
   ],
   "source": [
    "score = nn.evaluate(X_test_scaled, y_test, batch_size=16)"
   ]
  },
  {
   "cell_type": "code",
   "execution_count": 35,
   "id": "2a75595b-de49-430e-86d2-88dac8b0592b",
   "metadata": {},
   "outputs": [
    {
     "name": "stdout",
     "output_type": "stream",
     "text": [
      "18860/18860 - 16s - loss: 0.0783 - accuracy: 0.9756\n",
      "Loss: 0.07827001065015793, Accuracy: 0.9756023287773132\n"
     ]
    }
   ],
   "source": [
    "model_loss, model_accuracy = nn.evaluate(X_test_scaled, y_test, verbose=2)\n",
    "print(f\"Loss: {model_loss}, Accuracy: {model_accuracy}\")"
   ]
  },
  {
   "cell_type": "code",
   "execution_count": 36,
   "id": "ab277819-70cb-4f2f-8edf-6e67256085f2",
   "metadata": {},
   "outputs": [],
   "source": [
    "#Make predictions\n",
    "# predictions = nn.predict_classes(X_test_scaled)\n",
    "predictions = (nn.predict(X_test_scaled) > 0.5).astype(\"int32\")\n"
   ]
  },
  {
   "cell_type": "code",
   "execution_count": 37,
   "id": "4d2d1cd7-dae4-40e3-a5ed-965f2eaa5d62",
   "metadata": {},
   "outputs": [
    {
     "name": "stdout",
     "output_type": "stream",
     "text": [
      "              precision    recall  f1-score   support\n",
      "\n",
      "           0       0.97      1.00      0.99    560366\n",
      "           1       0.99      0.66      0.80     43134\n",
      "\n",
      "    accuracy                           0.98    603500\n",
      "   macro avg       0.98      0.83      0.89    603500\n",
      "weighted avg       0.98      0.98      0.97    603500\n",
      "\n"
     ]
    }
   ],
   "source": [
    "from sklearn.metrics import classification_report\n",
    "print(classification_report(y_test ,predictions))"
   ]
  },
  {
   "cell_type": "code",
   "execution_count": 38,
   "id": "e694d11b-8f91-4b36-8e6d-221b8e039f64",
   "metadata": {},
   "outputs": [
    {
     "data": {
      "text/plain": [
       "array([[560173,    193],\n",
       "       [ 14531,  28603]])"
      ]
     },
     "execution_count": 38,
     "metadata": {},
     "output_type": "execute_result"
    }
   ],
   "source": [
    "from sklearn.metrics import confusion_matrix\n",
    "confusion_matrix(y_test, predictions)"
   ]
  }
 ],
 "metadata": {
  "kernelspec": {
   "display_name": "Python 3",
   "language": "python",
   "name": "python3"
  },
  "language_info": {
   "codemirror_mode": {
    "name": "ipython",
    "version": 3
   },
   "file_extension": ".py",
   "mimetype": "text/x-python",
   "name": "python",
   "nbconvert_exporter": "python",
   "pygments_lexer": "ipython3",
   "version": "3.8.8"
  }
 },
 "nbformat": 4,
 "nbformat_minor": 5
}
