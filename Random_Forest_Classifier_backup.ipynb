{
 "cells": [
  {
   "cell_type": "code",
   "execution_count": 1,
   "metadata": {
    "id": "G40wHoz4q53E"
   },
   "outputs": [],
   "source": [
    "import pandas as pd\n",
    "import numpy as np \n",
    "from sklearn.ensemble import RandomForestClassifier\n",
    "from sklearn.preprocessing import StandardScaler\n",
    "from sklearn.model_selection import train_test_split\n",
    "from sklearn.metrics import confusion_matrix, accuracy_score, classification_report\n",
    "from collections import Counter\n",
    "%matplotlib inline\n",
    "\n",
    "# Needed for decision tree visualization\n",
    "\n",
    "# Try using oversampling to help balance the data more\n",
    "import pydotplus\n",
    "from IPython.display import Image\n",
    "# model.feature_importances\n",
    "# target 1 is payment difficulties"
   ]
  },
  {
   "cell_type": "code",
   "execution_count": 2,
   "metadata": {
    "colab": {
     "base_uri": "https://localhost:8080/"
    },
    "id": "m5VBf9zPq53G",
    "outputId": "e978c43f-cd6f-4e62-e739-63e863b89b91"
   },
   "outputs": [
    {
     "data": {
      "text/plain": [
       "(307511, 121)"
      ]
     },
     "execution_count": 2,
     "metadata": {
      "tags": []
     },
     "output_type": "execute_result"
    }
   ],
   "source": [
    "path = (\"../Data/application_train.csv\")\n",
    "df = pd.read_csv(path)\n",
    "df.set_index(\"SK_ID_CURR\", inplace = True)\n",
    "df.shape"
   ]
  },
  {
   "cell_type": "code",
   "execution_count": 4,
   "metadata": {
    "id": "58UfN5Qcq53I"
   },
   "outputs": [],
   "source": [
    "df = df.loc[:,[\"AMT_ANNUITY\", \n",
    "               \"TARGET\", \n",
    "               \"DAYS_EMPLOYED\", \n",
    "               \"AMT_CREDIT\", \n",
    "               \"AMT_INCOME_TOTAL\", \n",
    "               \"AMT_GOODS_PRICE\", \n",
    "               \"AMT_REQ_CREDIT_BUREAU_YEAR\", \n",
    "               \"CNT_FAM_MEMBERS\", \n",
    "               \"CNT_CHILDREN\", \n",
    "               \"NAME_EDUCATION_TYPE\", \n",
    "               \"DAYS_BIRTH\"]]"
   ]
  },
  {
   "cell_type": "code",
   "execution_count": 5,
   "metadata": {
    "id": "2HOtM0M6q53J"
   },
   "outputs": [],
   "source": [
    "df[\"AGE\"] = round(abs(df[\"DAYS_BIRTH\"])/365)\n",
    "df = df.drop(columns = [\"DAYS_BIRTH\"])"
   ]
  },
  {
   "cell_type": "code",
   "execution_count": 6,
   "metadata": {
    "id": "VS6IUtRZq53K"
   },
   "outputs": [],
   "source": [
    "from sklearn.preprocessing import LabelEncoder\n",
    "le = LabelEncoder()\n",
    "df[\"EDUCATION\"] = le.fit_transform(df[\"NAME_EDUCATION_TYPE\"])"
   ]
  },
  {
   "cell_type": "code",
   "execution_count": 7,
   "metadata": {
    "colab": {
     "base_uri": "https://localhost:8080/",
     "height": 470
    },
    "id": "xMlGgGpzq53M",
    "outputId": "7b4021be-00fb-464c-baea-49890ecf7ad9"
   },
   "outputs": [
    {
     "data": {
      "text/html": [
       "<div>\n",
       "<style scoped>\n",
       "    .dataframe tbody tr th:only-of-type {\n",
       "        vertical-align: middle;\n",
       "    }\n",
       "\n",
       "    .dataframe tbody tr th {\n",
       "        vertical-align: top;\n",
       "    }\n",
       "\n",
       "    .dataframe thead th {\n",
       "        text-align: right;\n",
       "    }\n",
       "</style>\n",
       "<table border=\"1\" class=\"dataframe\">\n",
       "  <thead>\n",
       "    <tr style=\"text-align: right;\">\n",
       "      <th></th>\n",
       "      <th>AMT_ANNUITY</th>\n",
       "      <th>TARGET</th>\n",
       "      <th>DAYS_EMPLOYED</th>\n",
       "      <th>AMT_CREDIT</th>\n",
       "      <th>AMT_INCOME_TOTAL</th>\n",
       "      <th>AMT_GOODS_PRICE</th>\n",
       "      <th>AMT_REQ_CREDIT_BUREAU_YEAR</th>\n",
       "      <th>CNT_FAM_MEMBERS</th>\n",
       "      <th>CNT_CHILDREN</th>\n",
       "      <th>AGE</th>\n",
       "      <th>EDUCATION</th>\n",
       "    </tr>\n",
       "    <tr>\n",
       "      <th>SK_ID_CURR</th>\n",
       "      <th></th>\n",
       "      <th></th>\n",
       "      <th></th>\n",
       "      <th></th>\n",
       "      <th></th>\n",
       "      <th></th>\n",
       "      <th></th>\n",
       "      <th></th>\n",
       "      <th></th>\n",
       "      <th></th>\n",
       "      <th></th>\n",
       "    </tr>\n",
       "  </thead>\n",
       "  <tbody>\n",
       "    <tr>\n",
       "      <th>100002</th>\n",
       "      <td>24700.5</td>\n",
       "      <td>1</td>\n",
       "      <td>-637</td>\n",
       "      <td>406597.5</td>\n",
       "      <td>202500.0</td>\n",
       "      <td>351000.0</td>\n",
       "      <td>1.0</td>\n",
       "      <td>1.0</td>\n",
       "      <td>0</td>\n",
       "      <td>26.0</td>\n",
       "      <td>4</td>\n",
       "    </tr>\n",
       "    <tr>\n",
       "      <th>100003</th>\n",
       "      <td>35698.5</td>\n",
       "      <td>0</td>\n",
       "      <td>-1188</td>\n",
       "      <td>1293502.5</td>\n",
       "      <td>270000.0</td>\n",
       "      <td>1129500.0</td>\n",
       "      <td>0.0</td>\n",
       "      <td>2.0</td>\n",
       "      <td>0</td>\n",
       "      <td>46.0</td>\n",
       "      <td>1</td>\n",
       "    </tr>\n",
       "    <tr>\n",
       "      <th>100004</th>\n",
       "      <td>6750.0</td>\n",
       "      <td>0</td>\n",
       "      <td>-225</td>\n",
       "      <td>135000.0</td>\n",
       "      <td>67500.0</td>\n",
       "      <td>135000.0</td>\n",
       "      <td>0.0</td>\n",
       "      <td>1.0</td>\n",
       "      <td>0</td>\n",
       "      <td>52.0</td>\n",
       "      <td>4</td>\n",
       "    </tr>\n",
       "    <tr>\n",
       "      <th>100006</th>\n",
       "      <td>29686.5</td>\n",
       "      <td>0</td>\n",
       "      <td>-3039</td>\n",
       "      <td>312682.5</td>\n",
       "      <td>135000.0</td>\n",
       "      <td>297000.0</td>\n",
       "      <td>NaN</td>\n",
       "      <td>2.0</td>\n",
       "      <td>0</td>\n",
       "      <td>52.0</td>\n",
       "      <td>4</td>\n",
       "    </tr>\n",
       "    <tr>\n",
       "      <th>100007</th>\n",
       "      <td>21865.5</td>\n",
       "      <td>0</td>\n",
       "      <td>-3038</td>\n",
       "      <td>513000.0</td>\n",
       "      <td>121500.0</td>\n",
       "      <td>513000.0</td>\n",
       "      <td>0.0</td>\n",
       "      <td>1.0</td>\n",
       "      <td>0</td>\n",
       "      <td>55.0</td>\n",
       "      <td>4</td>\n",
       "    </tr>\n",
       "    <tr>\n",
       "      <th>...</th>\n",
       "      <td>...</td>\n",
       "      <td>...</td>\n",
       "      <td>...</td>\n",
       "      <td>...</td>\n",
       "      <td>...</td>\n",
       "      <td>...</td>\n",
       "      <td>...</td>\n",
       "      <td>...</td>\n",
       "      <td>...</td>\n",
       "      <td>...</td>\n",
       "      <td>...</td>\n",
       "    </tr>\n",
       "    <tr>\n",
       "      <th>456251</th>\n",
       "      <td>27558.0</td>\n",
       "      <td>0</td>\n",
       "      <td>-236</td>\n",
       "      <td>254700.0</td>\n",
       "      <td>157500.0</td>\n",
       "      <td>225000.0</td>\n",
       "      <td>NaN</td>\n",
       "      <td>1.0</td>\n",
       "      <td>0</td>\n",
       "      <td>26.0</td>\n",
       "      <td>4</td>\n",
       "    </tr>\n",
       "    <tr>\n",
       "      <th>456252</th>\n",
       "      <td>12001.5</td>\n",
       "      <td>0</td>\n",
       "      <td>365243</td>\n",
       "      <td>269550.0</td>\n",
       "      <td>72000.0</td>\n",
       "      <td>225000.0</td>\n",
       "      <td>NaN</td>\n",
       "      <td>1.0</td>\n",
       "      <td>0</td>\n",
       "      <td>57.0</td>\n",
       "      <td>4</td>\n",
       "    </tr>\n",
       "    <tr>\n",
       "      <th>456253</th>\n",
       "      <td>29979.0</td>\n",
       "      <td>0</td>\n",
       "      <td>-7921</td>\n",
       "      <td>677664.0</td>\n",
       "      <td>153000.0</td>\n",
       "      <td>585000.0</td>\n",
       "      <td>1.0</td>\n",
       "      <td>1.0</td>\n",
       "      <td>0</td>\n",
       "      <td>41.0</td>\n",
       "      <td>1</td>\n",
       "    </tr>\n",
       "    <tr>\n",
       "      <th>456254</th>\n",
       "      <td>20205.0</td>\n",
       "      <td>1</td>\n",
       "      <td>-4786</td>\n",
       "      <td>370107.0</td>\n",
       "      <td>171000.0</td>\n",
       "      <td>319500.0</td>\n",
       "      <td>0.0</td>\n",
       "      <td>2.0</td>\n",
       "      <td>0</td>\n",
       "      <td>33.0</td>\n",
       "      <td>4</td>\n",
       "    </tr>\n",
       "    <tr>\n",
       "      <th>456255</th>\n",
       "      <td>49117.5</td>\n",
       "      <td>0</td>\n",
       "      <td>-1262</td>\n",
       "      <td>675000.0</td>\n",
       "      <td>157500.0</td>\n",
       "      <td>675000.0</td>\n",
       "      <td>1.0</td>\n",
       "      <td>2.0</td>\n",
       "      <td>0</td>\n",
       "      <td>46.0</td>\n",
       "      <td>1</td>\n",
       "    </tr>\n",
       "  </tbody>\n",
       "</table>\n",
       "<p>307511 rows × 11 columns</p>\n",
       "</div>"
      ],
      "text/plain": [
       "            AMT_ANNUITY  TARGET  DAYS_EMPLOYED  ...  CNT_CHILDREN   AGE  EDUCATION\n",
       "SK_ID_CURR                                      ...                               \n",
       "100002          24700.5       1           -637  ...             0  26.0          4\n",
       "100003          35698.5       0          -1188  ...             0  46.0          1\n",
       "100004           6750.0       0           -225  ...             0  52.0          4\n",
       "100006          29686.5       0          -3039  ...             0  52.0          4\n",
       "100007          21865.5       0          -3038  ...             0  55.0          4\n",
       "...                 ...     ...            ...  ...           ...   ...        ...\n",
       "456251          27558.0       0           -236  ...             0  26.0          4\n",
       "456252          12001.5       0         365243  ...             0  57.0          4\n",
       "456253          29979.0       0          -7921  ...             0  41.0          1\n",
       "456254          20205.0       1          -4786  ...             0  33.0          4\n",
       "456255          49117.5       0          -1262  ...             0  46.0          1\n",
       "\n",
       "[307511 rows x 11 columns]"
      ]
     },
     "execution_count": 7,
     "metadata": {
      "tags": []
     },
     "output_type": "execute_result"
    }
   ],
   "source": [
    "final_df = df\n",
    "final_df.drop(columns = [\"NAME_EDUCATION_TYPE\"], inplace = True)\n",
    "# create the dummy variables for this dataframe\n",
    "final_df = pd.get_dummies(final_df)\n",
    "final_df"
   ]
  },
  {
   "cell_type": "code",
   "execution_count": 8,
   "metadata": {
    "colab": {
     "base_uri": "https://localhost:8080/"
    },
    "id": "oiIgYpD5wMC4",
    "outputId": "8373cf77-cf56-4b22-c2fa-f54017be7977"
   },
   "outputs": [
    {
     "data": {
      "text/plain": [
       "(307511, 11)"
      ]
     },
     "execution_count": 8,
     "metadata": {
      "tags": []
     },
     "output_type": "execute_result"
    }
   ],
   "source": [
    "final_df.shape"
   ]
  },
  {
   "cell_type": "code",
   "execution_count": 9,
   "metadata": {
    "id": "ghL7gW54v1le"
   },
   "outputs": [],
   "source": [
    "# split the data into 70% train and 30% test, which is 307511\n",
    "app_train = final_df.iloc[:216000]\n",
    "app_test = final_df.iloc[91511:]"
   ]
  },
  {
   "cell_type": "code",
   "execution_count": 10,
   "metadata": {
    "colab": {
     "base_uri": "https://localhost:8080/",
     "height": 289
    },
    "id": "laCvVtkXq53N",
    "outputId": "7d4c4884-5991-4d8c-e935-b10c32772d4e"
   },
   "outputs": [
    {
     "name": "stderr",
     "output_type": "stream",
     "text": [
      "/usr/local/lib/python3.7/dist-packages/numpy/lib/arraysetops.py:580: FutureWarning: elementwise comparison failed; returning scalar instead, but in the future will perform elementwise comparison\n",
      "  mask |= (ar1 == a)\n"
     ]
    },
    {
     "data": {
      "text/html": [
       "<div>\n",
       "<style scoped>\n",
       "    .dataframe tbody tr th:only-of-type {\n",
       "        vertical-align: middle;\n",
       "    }\n",
       "\n",
       "    .dataframe tbody tr th {\n",
       "        vertical-align: top;\n",
       "    }\n",
       "\n",
       "    .dataframe thead th {\n",
       "        text-align: right;\n",
       "    }\n",
       "</style>\n",
       "<table border=\"1\" class=\"dataframe\">\n",
       "  <thead>\n",
       "    <tr style=\"text-align: right;\">\n",
       "      <th></th>\n",
       "      <th>SK_ID_PREV</th>\n",
       "      <th>MONTHS_BALANCE</th>\n",
       "      <th>AMT_BALANCE</th>\n",
       "      <th>AMT_CREDIT_LIMIT_ACTUAL</th>\n",
       "      <th>AMT_DRAWINGS_ATM_CURRENT</th>\n",
       "      <th>AMT_DRAWINGS_CURRENT</th>\n",
       "      <th>AMT_DRAWINGS_OTHER_CURRENT</th>\n",
       "      <th>AMT_DRAWINGS_POS_CURRENT</th>\n",
       "      <th>AMT_INST_MIN_REGULARITY</th>\n",
       "      <th>AMT_PAYMENT_CURRENT</th>\n",
       "      <th>AMT_PAYMENT_TOTAL_CURRENT</th>\n",
       "      <th>AMT_RECEIVABLE_PRINCIPAL</th>\n",
       "      <th>AMT_RECIVABLE</th>\n",
       "      <th>AMT_TOTAL_RECEIVABLE</th>\n",
       "      <th>CNT_DRAWINGS_ATM_CURRENT</th>\n",
       "      <th>CNT_DRAWINGS_CURRENT</th>\n",
       "      <th>CNT_DRAWINGS_OTHER_CURRENT</th>\n",
       "      <th>CNT_DRAWINGS_POS_CURRENT</th>\n",
       "      <th>CNT_INSTALMENT_MATURE_CUM</th>\n",
       "      <th>NAME_CONTRACT_STATUS</th>\n",
       "      <th>SK_DPD</th>\n",
       "      <th>SK_DPD_DEF</th>\n",
       "    </tr>\n",
       "    <tr>\n",
       "      <th>SK_ID_CURR</th>\n",
       "      <th></th>\n",
       "      <th></th>\n",
       "      <th></th>\n",
       "      <th></th>\n",
       "      <th></th>\n",
       "      <th></th>\n",
       "      <th></th>\n",
       "      <th></th>\n",
       "      <th></th>\n",
       "      <th></th>\n",
       "      <th></th>\n",
       "      <th></th>\n",
       "      <th></th>\n",
       "      <th></th>\n",
       "      <th></th>\n",
       "      <th></th>\n",
       "      <th></th>\n",
       "      <th></th>\n",
       "      <th></th>\n",
       "      <th></th>\n",
       "      <th></th>\n",
       "      <th></th>\n",
       "    </tr>\n",
       "  </thead>\n",
       "  <tbody>\n",
       "    <tr>\n",
       "      <th>378907</th>\n",
       "      <td>2562384</td>\n",
       "      <td>-6</td>\n",
       "      <td>56.970</td>\n",
       "      <td>135000</td>\n",
       "      <td>0.0</td>\n",
       "      <td>877.5</td>\n",
       "      <td>0.0</td>\n",
       "      <td>877.5</td>\n",
       "      <td>1700.325</td>\n",
       "      <td>1800.0</td>\n",
       "      <td>1800.0</td>\n",
       "      <td>0.000</td>\n",
       "      <td>0.000</td>\n",
       "      <td>0.000</td>\n",
       "      <td>0.0</td>\n",
       "      <td>1</td>\n",
       "      <td>0.0</td>\n",
       "      <td>1.0</td>\n",
       "      <td>35.0</td>\n",
       "      <td>Active</td>\n",
       "      <td>0</td>\n",
       "      <td>0</td>\n",
       "    </tr>\n",
       "    <tr>\n",
       "      <th>363914</th>\n",
       "      <td>2582071</td>\n",
       "      <td>-1</td>\n",
       "      <td>63975.555</td>\n",
       "      <td>45000</td>\n",
       "      <td>2250.0</td>\n",
       "      <td>2250.0</td>\n",
       "      <td>0.0</td>\n",
       "      <td>0.0</td>\n",
       "      <td>2250.000</td>\n",
       "      <td>2250.0</td>\n",
       "      <td>2250.0</td>\n",
       "      <td>60175.080</td>\n",
       "      <td>64875.555</td>\n",
       "      <td>64875.555</td>\n",
       "      <td>1.0</td>\n",
       "      <td>1</td>\n",
       "      <td>0.0</td>\n",
       "      <td>0.0</td>\n",
       "      <td>69.0</td>\n",
       "      <td>Active</td>\n",
       "      <td>0</td>\n",
       "      <td>0</td>\n",
       "    </tr>\n",
       "    <tr>\n",
       "      <th>371185</th>\n",
       "      <td>1740877</td>\n",
       "      <td>-7</td>\n",
       "      <td>31815.225</td>\n",
       "      <td>450000</td>\n",
       "      <td>0.0</td>\n",
       "      <td>0.0</td>\n",
       "      <td>0.0</td>\n",
       "      <td>0.0</td>\n",
       "      <td>2250.000</td>\n",
       "      <td>2250.0</td>\n",
       "      <td>2250.0</td>\n",
       "      <td>26926.425</td>\n",
       "      <td>31460.085</td>\n",
       "      <td>31460.085</td>\n",
       "      <td>0.0</td>\n",
       "      <td>0</td>\n",
       "      <td>0.0</td>\n",
       "      <td>0.0</td>\n",
       "      <td>30.0</td>\n",
       "      <td>Active</td>\n",
       "      <td>0</td>\n",
       "      <td>0</td>\n",
       "    </tr>\n",
       "    <tr>\n",
       "      <th>337855</th>\n",
       "      <td>1389973</td>\n",
       "      <td>-4</td>\n",
       "      <td>236572.110</td>\n",
       "      <td>225000</td>\n",
       "      <td>2250.0</td>\n",
       "      <td>2250.0</td>\n",
       "      <td>0.0</td>\n",
       "      <td>0.0</td>\n",
       "      <td>11795.760</td>\n",
       "      <td>11925.0</td>\n",
       "      <td>11925.0</td>\n",
       "      <td>224949.285</td>\n",
       "      <td>233048.970</td>\n",
       "      <td>233048.970</td>\n",
       "      <td>1.0</td>\n",
       "      <td>1</td>\n",
       "      <td>0.0</td>\n",
       "      <td>0.0</td>\n",
       "      <td>10.0</td>\n",
       "      <td>Active</td>\n",
       "      <td>0</td>\n",
       "      <td>0</td>\n",
       "    </tr>\n",
       "    <tr>\n",
       "      <th>126868</th>\n",
       "      <td>1891521</td>\n",
       "      <td>-1</td>\n",
       "      <td>453919.455</td>\n",
       "      <td>450000</td>\n",
       "      <td>0.0</td>\n",
       "      <td>11547.0</td>\n",
       "      <td>0.0</td>\n",
       "      <td>11547.0</td>\n",
       "      <td>22924.890</td>\n",
       "      <td>27000.0</td>\n",
       "      <td>27000.0</td>\n",
       "      <td>443044.395</td>\n",
       "      <td>453919.455</td>\n",
       "      <td>453919.455</td>\n",
       "      <td>0.0</td>\n",
       "      <td>1</td>\n",
       "      <td>0.0</td>\n",
       "      <td>1.0</td>\n",
       "      <td>101.0</td>\n",
       "      <td>Active</td>\n",
       "      <td>0</td>\n",
       "      <td>0</td>\n",
       "    </tr>\n",
       "  </tbody>\n",
       "</table>\n",
       "</div>"
      ],
      "text/plain": [
       "            SK_ID_PREV  MONTHS_BALANCE  ...  SK_DPD  SK_DPD_DEF\n",
       "SK_ID_CURR                              ...                    \n",
       "378907         2562384              -6  ...       0           0\n",
       "363914         2582071              -1  ...       0           0\n",
       "371185         1740877              -7  ...       0           0\n",
       "337855         1389973              -4  ...       0           0\n",
       "126868         1891521              -1  ...       0           0\n",
       "\n",
       "[5 rows x 22 columns]"
      ]
     },
     "execution_count": 10,
     "metadata": {
      "tags": []
     },
     "output_type": "execute_result"
    }
   ],
   "source": [
    "path_2 = (\"../Data/credit_card_balance.csv\")\n",
    "cc_df = pd.read_csv(path_2, index_col = \"SK_ID_CURR\")\n",
    "cc_df.head()"
   ]
  },
  {
   "cell_type": "code",
   "execution_count": 11,
   "metadata": {
    "id": "k7aqRXw_q53O"
   },
   "outputs": [],
   "source": [
    "# drop the SKIDPREV since we re going to join the two data frames and we do not need this\n",
    "cc_df.drop(columns = [\"SK_ID_PREV\"], inplace = True)"
   ]
  },
  {
   "cell_type": "code",
   "execution_count": 12,
   "metadata": {
    "id": "w3ilYnHNq53P"
   },
   "outputs": [],
   "source": [
    "train_merge = pd.merge(left = app_train, right=cc_df, how='left', left_on='SK_ID_CURR', right_on='SK_ID_CURR')\n",
    "test_merge = pd.merge(left = app_test, right=cc_df, how='left', left_on='SK_ID_CURR', right_on='SK_ID_CURR')"
   ]
  },
  {
   "cell_type": "code",
   "execution_count": 13,
   "metadata": {
    "id": "nTZF0uOwq53Q"
   },
   "outputs": [],
   "source": [
    "# concat the two dataframes\n",
    "#combined_df = pd.merge(left = final_df, right=cc_df, how='left', left_on='SK_ID_CURR', right_on='SK_ID_CURR')"
   ]
  },
  {
   "cell_type": "code",
   "execution_count": 14,
   "metadata": {
    "id": "wUrUPMuWq53R"
   },
   "outputs": [],
   "source": [
    "# pull the target variables from the train_merge and test merge\n",
    "target_train = train_merge[\"TARGET\"]\n",
    "target_test = test_merge[\"TARGET\"]"
   ]
  },
  {
   "cell_type": "code",
   "execution_count": 15,
   "metadata": {
    "id": "7Gmd79T8zsQ3"
   },
   "outputs": [],
   "source": [
    "# drop the target variables from the train and test datasets\n",
    "train_merge = train_merge.drop(columns = [\"TARGET\"], axis =1)\n",
    "test_merge = test_merge.drop(columns = [\"TARGET\"], axis =1)"
   ]
  },
  {
   "cell_type": "code",
   "execution_count": 16,
   "metadata": {
    "id": "fv5S7L-Oq53R"
   },
   "outputs": [],
   "source": [
    "# use function to help get rid of the null values\n",
    "def fill_in(data):\n",
    "    for i in data.columns:\n",
    "        if data[i].dtype == \"object\":\n",
    "            data[i] = data[i].fillna(\"\")\n",
    "        elif (data[i].dtype == \"int64\" or data[i].dtype == \"float64\"):\n",
    "            data[i] = data[i].fillna(data[i].mean())\n",
    "        else:\n",
    "            pass\n",
    "    return data"
   ]
  },
  {
   "cell_type": "code",
   "execution_count": 17,
   "metadata": {
    "id": "5ZP_TYu7q53S"
   },
   "outputs": [],
   "source": [
    "# fill the null values in both the train and the test datasets\n",
    "train_merge = fill_in(train_merge)\n",
    "test_merge = fill_in(test_merge)"
   ]
  },
  {
   "cell_type": "code",
   "execution_count": 18,
   "metadata": {
    "id": "wcprj5ZBq53S"
   },
   "outputs": [],
   "source": [
    "# Get dummy variables for both the train and the test sets\n",
    "train_merge = pd.get_dummies(train_merge)\n",
    "test_merge = pd.get_dummies(test_merge)"
   ]
  },
  {
   "cell_type": "code",
   "execution_count": 24,
   "metadata": {
    "id": "TQjbLyREq53V"
   },
   "outputs": [],
   "source": [
    "# set the scaler for the mode \n",
    "scaler = StandardScaler()"
   ]
  },
  {
   "cell_type": "code",
   "execution_count": 25,
   "metadata": {
    "id": "Waf_NZ7Xq53V"
   },
   "outputs": [],
   "source": [
    "# fit the scaler to the training data\n",
    "train_merge_scaler = scaler.fit(train_merge)"
   ]
  },
  {
   "cell_type": "code",
   "execution_count": 26,
   "metadata": {
    "id": "F-z3MCWMq53W"
   },
   "outputs": [],
   "source": [
    "# We now need to transform the data \n",
    "train_merge_scaled = train_merge_scaler.transform(train_merge)\n",
    "test_merge_scaled = train_merge_scaler.transform(test_merge)"
   ]
  },
  {
   "cell_type": "code",
   "execution_count": 27,
   "metadata": {
    "colab": {
     "base_uri": "https://localhost:8080/"
    },
    "id": "pqXseGfByrYQ",
    "outputId": "6bb25f5e-ed77-4390-dabc-00654c1d4340"
   },
   "outputs": [
    {
     "data": {
      "text/plain": [
       "(2415716, 38)"
      ]
     },
     "execution_count": 27,
     "metadata": {
      "tags": []
     },
     "output_type": "execute_result"
    }
   ],
   "source": [
    "train_merge_scaled.shape"
   ]
  },
  {
   "cell_type": "code",
   "execution_count": 32,
   "metadata": {
    "id": "0r9gmziAq53x"
   },
   "outputs": [],
   "source": [
    "# we need to fit the random forest model \n",
    "model = RandomForestClassifier(n_estimators = 50, random_state = 78)"
   ]
  },
  {
   "cell_type": "code",
   "execution_count": 33,
   "metadata": {
    "id": "CpKTwx8Uq53x"
   },
   "outputs": [],
   "source": [
    "# fit the model to the scaled trained data and the target training set\n",
    "model = model.fit(train_merge_scaled, target_train )"
   ]
  },
  {
   "cell_type": "code",
   "execution_count": 34,
   "metadata": {
    "id": "TShZl2bjq53x"
   },
   "outputs": [],
   "source": [
    "# We need to make predictions based on the data\n",
    "predictions = model.predict(test_merge_scaled)"
   ]
  },
  {
   "cell_type": "code",
   "execution_count": 35,
   "metadata": {
    "id": "6nJpvc1-q53x"
   },
   "outputs": [],
   "source": [
    "# Model Evaluation\n",
    "# create a confusion matrix to easily read the data evaluation\n",
    "cm = confusion_matrix(target_test, predictions)\n",
    "cm_df = pd.DataFrame(\n",
    "    cm, index=[\"Actual Approve\", \"Actual Deny\"], columns=[\"Predicted Approve\", \"Predicted Deny\"]\n",
    ")\n",
    "\n",
    "# Calculating the accuracy score\n",
    "acc_score = accuracy_score(target_test, predictions)"
   ]
  },
  {
   "cell_type": "code",
   "execution_count": 36,
   "metadata": {
    "colab": {
     "base_uri": "https://localhost:8080/",
     "height": 315
    },
    "id": "IaaQAC-Uq53y",
    "outputId": "c346c6f1-cc0f-4ed3-b2e8-7dc1a7344015"
   },
   "outputs": [
    {
     "name": "stdout",
     "output_type": "stream",
     "text": [
      "Confusion Matrix\n"
     ]
    },
    {
     "data": {
      "text/html": [
       "<div>\n",
       "<style scoped>\n",
       "    .dataframe tbody tr th:only-of-type {\n",
       "        vertical-align: middle;\n",
       "    }\n",
       "\n",
       "    .dataframe tbody tr th {\n",
       "        vertical-align: top;\n",
       "    }\n",
       "\n",
       "    .dataframe thead th {\n",
       "        text-align: right;\n",
       "    }\n",
       "</style>\n",
       "<table border=\"1\" class=\"dataframe\">\n",
       "  <thead>\n",
       "    <tr style=\"text-align: right;\">\n",
       "      <th></th>\n",
       "      <th>Predicted 0</th>\n",
       "      <th>Predicted 1</th>\n",
       "    </tr>\n",
       "  </thead>\n",
       "  <tbody>\n",
       "    <tr>\n",
       "      <th>Actual 0</th>\n",
       "      <td>2252373</td>\n",
       "      <td>85</td>\n",
       "    </tr>\n",
       "    <tr>\n",
       "      <th>Actual 1</th>\n",
       "      <td>75533</td>\n",
       "      <td>94966</td>\n",
       "    </tr>\n",
       "  </tbody>\n",
       "</table>\n",
       "</div>"
      ],
      "text/plain": [
       "          Predicted 0  Predicted 1\n",
       "Actual 0      2252373           85\n",
       "Actual 1        75533        94966"
      ]
     },
     "metadata": {
      "tags": []
     },
     "output_type": "display_data"
    },
    {
     "name": "stdout",
     "output_type": "stream",
     "text": [
      "Accuracy Score : 0.9687910268320898\n",
      "Classification Report\n",
      "              precision    recall  f1-score   support\n",
      "\n",
      "           0       0.97      1.00      0.98   2252458\n",
      "           1       1.00      0.56      0.72    170499\n",
      "\n",
      "    accuracy                           0.97   2422957\n",
      "   macro avg       0.98      0.78      0.85   2422957\n",
      "weighted avg       0.97      0.97      0.96   2422957\n",
      "\n"
     ]
    }
   ],
   "source": [
    "# Displaying results\n",
    "print(\"Confusion Matrix\")\n",
    "display(cm_df)\n",
    "print(f\"Accuracy Score : {acc_score}\")\n",
    "print(\"Classification Report\")\n",
    "print(classification_report(target_test, predictions))"
   ]
  },
  {
   "cell_type": "code",
   "execution_count": 37,
   "metadata": {
    "colab": {
     "base_uri": "https://localhost:8080/"
    },
    "id": "sgYKBBAfq53y",
    "outputId": "da2c1ef9-7509-456c-fef2-c7fb34507473"
   },
   "outputs": [
    {
     "data": {
      "text/plain": [
       "[(0.11884731012758717, 'AMT_ANNUITY'),\n",
       " (0.1149989185033598, 'DAYS_EMPLOYED'),\n",
       " (0.10089813692828235, 'AMT_CREDIT'),\n",
       " (0.08901828324743104, 'AMT_INCOME_TOTAL'),\n",
       " (0.08252034965567794, 'AGE'),\n",
       " (0.07887028195150393, 'AMT_GOODS_PRICE'),\n",
       " (0.05906277579042461, 'AMT_REQ_CREDIT_BUREAU_YEAR'),\n",
       " (0.04160450658877858, 'AMT_PAYMENT_CURRENT'),\n",
       " (0.04117078394417401, 'CNT_INSTALMENT_MATURE_CUM'),\n",
       " (0.03786379671757494, 'AMT_CREDIT_LIMIT_ACTUAL'),\n",
       " (0.027182027239723593, 'CNT_FAM_MEMBERS'),\n",
       " (0.02374401298172508, 'MONTHS_BALANCE'),\n",
       " (0.020707379766647886, 'AMT_PAYMENT_TOTAL_CURRENT'),\n",
       " (0.02058730641863365, 'AMT_INST_MIN_REGULARITY'),\n",
       " (0.017601660617672134, 'AMT_BALANCE'),\n",
       " (0.01719603173639919, 'AMT_TOTAL_RECEIVABLE'),\n",
       " (0.01702984035094054, 'AMT_RECIVABLE'),\n",
       " (0.01590205514690688, 'AMT_RECEIVABLE_PRINCIPAL'),\n",
       " (0.01576424501740763, 'CNT_CHILDREN'),\n",
       " (0.012386440646226031, 'EDUCATION'),\n",
       " (0.007478380049426489, 'AMT_DRAWINGS_CURRENT'),\n",
       " (0.006395134151729649, 'AMT_DRAWINGS_POS_CURRENT'),\n",
       " (0.006145443552377945, 'AMT_DRAWINGS_ATM_CURRENT'),\n",
       " (0.005440734035335631, 'CNT_DRAWINGS_POS_CURRENT'),\n",
       " (0.005234385995009214, 'CNT_DRAWINGS_CURRENT'),\n",
       " (0.004712052090385749, 'CNT_DRAWINGS_ATM_CURRENT'),\n",
       " (0.0026186020398158492, 'SK_DPD'),\n",
       " (0.0020978685518256517, 'AMT_DRAWINGS_OTHER_CURRENT'),\n",
       " (0.0018446156058685682, 'CNT_DRAWINGS_OTHER_CURRENT'),\n",
       " (0.0016532595158546095, 'NAME_CONTRACT_STATUS_Active'),\n",
       " (0.001327262450433092, 'SK_DPD_DEF'),\n",
       " (0.0011426353738217224, 'NAME_CONTRACT_STATUS_Completed'),\n",
       " (0.000488580371638596, 'NAME_CONTRACT_STATUS_Signed'),\n",
       " (0.00029181495845813675, 'NAME_CONTRACT_STATUS_'),\n",
       " (0.0001556107909930227, 'NAME_CONTRACT_STATUS_Demand'),\n",
       " (1.535760723841385e-05, 'NAME_CONTRACT_STATUS_Sent proposal'),\n",
       " (2.1193819501471757e-06, 'NAME_CONTRACT_STATUS_Refused'),\n",
       " (1.0076060353100895e-10, 'NAME_CONTRACT_STATUS_Approved')]"
      ]
     },
     "execution_count": 37,
     "metadata": {
      "tags": []
     },
     "output_type": "execute_result"
    }
   ],
   "source": [
    "#important_features = model.feature_importances_\n",
    "importances_sorted = sorted(zip(model.feature_importances_, train_merge.columns), reverse=True)\n",
    "importances_sorted"
   ]
  },
  {
   "cell_type": "code",
   "execution_count": 38,
   "metadata": {
    "colab": {
     "base_uri": "https://localhost:8080/",
     "height": 407
    },
    "id": "0ojbr2Tw-9Hx",
    "outputId": "ce101309-b792-4be3-eb7e-9fed7ca2d32c"
   },
   "outputs": [
    {
     "data": {
      "text/plain": [
       "<matplotlib.axes._subplots.AxesSubplot at 0x7f9c56238250>"
      ]
     },
     "execution_count": 38,
     "metadata": {
      "tags": []
     },
     "output_type": "execute_result"
    },
    {
     "data": {
      "image/png": "[encoded data removed]",
      "text/plain": [
       "<Figure size 1440x720 with 1 Axes>"
      ]
     },
     "metadata": {
      "needs_background": "light",
      "tags": []
     },
     "output_type": "display_data"
    }
   ],
   "source": [
    "# Visualize the features by importance\n",
    "importances_df = pd.DataFrame(sorted(zip(model.feature_importances_, train_merge.columns), reverse=True))\n",
    "importances_df.set_index(importances_df[1], inplace=True)\n",
    "importances_df.drop(columns=1, inplace=True)\n",
    "importances_df.rename(columns={0: 'Feature Importances'}, inplace=True)\n",
    "importances_sorted = importances_df.sort_values(by='Feature Importances')\n",
    "importances_sorted.plot(kind='barh', color='lightgreen', title= 'Features Importances', legend=False, figsize = (20,10))"
   ]
  },
  {
   "cell_type": "code",
   "execution_count": 39,
   "metadata": {
    "id": "qsSCMuJSOJ4N"
   },
   "outputs": [],
   "source": [
    "# We need to make predictions based on the trained data\n",
    "predictions_2 = model.predict(train_merge_scaled)"
   ]
  },
  {
   "cell_type": "code",
   "execution_count": 40,
   "metadata": {
    "colab": {
     "base_uri": "https://localhost:8080/"
    },
    "id": "bpJvOVH-RkI5",
    "outputId": "118909f1-e24c-4867-8218-f27a2af8a610"
   },
   "outputs": [
    {
     "data": {
      "text/plain": [
       "0.999926729797708"
      ]
     },
     "execution_count": 40,
     "metadata": {
      "tags": []
     },
     "output_type": "execute_result"
    }
   ],
   "source": [
    "# Calculating the accuracy score for the train set\n",
    "acc_score_2 = accuracy_score(target_train, predictions_2)\n",
    "acc_score_2"
   ]
  },
  {
   "cell_type": "code",
   "execution_count": 41,
   "metadata": {
    "colab": {
     "base_uri": "https://localhost:8080/"
    },
    "id": "dE6jRJvqRl9t",
    "outputId": "f217c04d-786d-4120-faf7-aaa2e5b587bd"
   },
   "outputs": [
    {
     "name": "stdout",
     "output_type": "stream",
     "text": [
      "The accuracy score for the test data is 0.9687910268320898 and the accuracy score for the train data is 0.999926729797708\n"
     ]
    }
   ],
   "source": [
    "# compare the accuracy scores to determine if overfitting is happening\n",
    "print(f'The accuracy score for the test data is {acc_score} and the accuracy score for the train data is {acc_score_2}')"
   ]
  }
 ],
 "metadata": {
  "colab": {
   "collapsed_sections": [],
   "name": "Project_2.ipynb",
   "provenance": []
  },
  "kernelspec": {
   "display_name": "Python [conda env:mlenv]",
   "language": "python",
   "name": "conda-env-mlenv-py"
  },
  "language_info": {
   "codemirror_mode": {
    "name": "ipython",
    "version": 3
   },
   "file_extension": ".py",
   "mimetype": "text/x-python",
   "name": "python",
   "nbconvert_exporter": "python",
   "pygments_lexer": "ipython3",
   "version": "3.7.10"
  }
 },
 "nbformat": 4,
 "nbformat_minor": 4
}
